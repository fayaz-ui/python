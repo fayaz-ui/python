{
  "nbformat": 4,
  "nbformat_minor": 0,
  "metadata": {
    "colab": {
      "name": "Untitled1.ipynb",
      "provenance": [],
      "authorship_tag": "ABX9TyP7HBsfLsaslfhKzRViuNPd",
      "include_colab_link": true
    },
    "kernelspec": {
      "name": "python3",
      "display_name": "Python 3"
    },
    "language_info": {
      "name": "python"
    }
  },
  "cells": [
    {
      "cell_type": "markdown",
      "metadata": {
        "id": "view-in-github",
        "colab_type": "text"
      },
      "source": [
        "<a href=\"https://colab.research.google.com/github/fayaz-ui/python/blob/main/Untitled1.ipynb\" target=\"_parent\"><img src=\"https://colab.research.google.com/assets/colab-badge.svg\" alt=\"Open In Colab\"/></a>"
      ]
    },
    {
      "cell_type": "code",
      "metadata": {
        "id": "-xt8csasiCCs"
      },
      "source": [
        "x=[[1,1,1],[1,1,1],[1,1,1]]\n",
        "y=[[1,1,1],[1,1,1],[1,1,1,]]\n",
        "result=[[0,0,0],[0,0,0],[0,0,0]]"
      ],
      "execution_count": 18,
      "outputs": []
    },
    {
      "cell_type": "code",
      "metadata": {
        "colab": {
          "base_uri": "https://localhost:8080/"
        },
        "id": "KGiwdJsniswK",
        "outputId": "59db583c-d33f-4c58-fbf9-851c82568c4e"
      },
      "source": [
        "for i in range(len(x)):\n",
        "  for j in range(len(y[0])):\n",
        "    for k in range(len(y)):\n",
        "      result[i][j]+=x[i][k]*y[k][j]\n",
        "\n",
        "for r in result:\n",
        "  print(r)"
      ],
      "execution_count": 19,
      "outputs": [
        {
          "output_type": "stream",
          "text": [
            "[3, 3, 3]\n",
            "[3, 3, 3]\n",
            "[3, 3, 3]\n"
          ],
          "name": "stdout"
        }
      ]
    },
    {
      "cell_type": "code",
      "metadata": {
        "colab": {
          "base_uri": "https://localhost:8080/"
        },
        "id": "QA9zEaioAPc2",
        "outputId": "8e53f138-6690-4267-b6a5-60d0cac1e1c2"
      },
      "source": [
        "def gcd_fun (x, y):  \n",
        "    if (y == 0):  \n",
        "        return x  \n",
        "    else:  \n",
        "        return gcd_fun (y, x % y)  \n",
        "x =int (input (\"Enter the first number: \"))  \n",
        "y =int (input (\"Enter the second number: \"))   \n",
        "num = gcd_fun(x, y) \n",
        "print(\"GCD of two number is: \")  \n",
        "print(num) "
      ],
      "execution_count": 20,
      "outputs": [
        {
          "output_type": "stream",
          "text": [
            "Enter the first number: 25\n",
            "Enter the second number: 42\n",
            "GCD of two number is: \n",
            "1\n"
          ],
          "name": "stdout"
        }
      ]
    },
    {
      "cell_type": "code",
      "metadata": {
        "colab": {
          "base_uri": "https://localhost:8080/"
        },
        "id": "ZPNCOiiOm8mS",
        "outputId": "4d8a325d-f9f9-47d3-ac6e-7723e1fe90d4"
      },
      "source": [
        "num = int(input(\"Enter the number of which you have to find power: \"))\n",
        "pw = int(input(\"Enter the exponent value: \"))\n",
        "x = 1\n",
        "for n in range(pw):\n",
        "    x = x*num\n",
        "print(x)"
      ],
      "execution_count": 21,
      "outputs": [
        {
          "output_type": "stream",
          "text": [
            "Enter the number of which you have to find power: 5\n",
            "Enter the exponent value: 2\n",
            "25\n"
          ],
          "name": "stdout"
        }
      ]
    },
    {
      "cell_type": "code",
      "metadata": {
        "id": "Lys0_tgu1VYo"
      },
      "source": [
        "def maximum(L):\n",
        "    if len(L) == 1:\n",
        "        return L[0]\n",
        "    else:\n",
        "        return max(L[0],maximum(L[1:]))"
      ],
      "execution_count": 22,
      "outputs": []
    },
    {
      "cell_type": "code",
      "metadata": {
        "colab": {
          "base_uri": "https://localhost:8080/"
        },
        "id": "toX_e-4f2RUV",
        "outputId": "e93b034f-6030-467f-9dad-0fd858cd01c7"
      },
      "source": [
        "L= [2,4,6,23,1,46]\n",
        "print(maximum(L))"
      ],
      "execution_count": 23,
      "outputs": [
        {
          "output_type": "stream",
          "text": [
            "46\n"
          ],
          "name": "stdout"
        }
      ]
    },
    {
      "cell_type": "code",
      "metadata": {
        "colab": {
          "base_uri": "https://localhost:8080/"
        },
        "id": "AAtZTOVa6Feo",
        "outputId": "3cc98366-c05a-4811-c8b1-9180a079e518"
      },
      "source": [
        "def linearsearch(arr, x):\n",
        "   for i in range(len(arr)):\n",
        "      if arr[i] == x:\n",
        "         return i\n",
        "   return -1\n",
        "arr = ['t','u','t','o','r','i','a','l']\n",
        "x = 'a'\n",
        "print(\"element found at index \"+str(linearsearch(arr,x)))"
      ],
      "execution_count": 24,
      "outputs": [
        {
          "output_type": "stream",
          "text": [
            "element found at index 6\n"
          ],
          "name": "stdout"
        }
      ]
    }
  ]
}